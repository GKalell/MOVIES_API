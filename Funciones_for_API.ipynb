{
 "cells": [
  {
   "cell_type": "code",
   "execution_count": 28,
   "metadata": {},
   "outputs": [],
   "source": [
    "import pandas as pd\n",
    "import re\n",
    "import ast"
   ]
  },
  {
   "cell_type": "code",
   "execution_count": 27,
   "metadata": {},
   "outputs": [
    {
     "data": {
      "text/plain": [
       "{'Se produjeron la cantidad de': 28771, 'películas en el idioma': 'English'}"
      ]
     },
     "execution_count": 27,
     "metadata": {},
     "output_type": "execute_result"
    }
   ],
   "source": [
    "# def peliculas_idioma( Idioma: str ): Se ingresa un idioma (como están escritos en el dataset, no hay que traducirlos!). Debe devolver la cantidad de películas producidas en ese idioma.\n",
    "# Ejemplo de retorno: X cantidad de películas fueron estrenadas en idioma\n",
    "\n",
    "def peliculas_idioma( Idioma: str ):\n",
    "    ## Abro el archivo y creo una lista con los valores de los idiomas\n",
    "    DF = pd.read_csv(\"movies_dataset_modificado.csv\")\n",
    "    list_lang = list(DF.spoken_languages.values)\n",
    "    \n",
    "    cantidad = sum(1 for item in list_lang if re.search(Idioma, str(item)))\n",
    "    return {'Se produjeron la cantidad de':cantidad , 'películas en el idioma':Idioma }\n",
    "\n",
    "peliculas_idioma(\"English\")\n",
    "\n"
   ]
  },
  {
   "cell_type": "code",
   "execution_count": 29,
   "metadata": {},
   "outputs": [
    {
     "data": {
      "text/plain": [
       "{'La pelicula': 'Toy Story', 'tiene una duración de': 81.0, 'Año': 1995}"
      ]
     },
     "execution_count": 29,
     "metadata": {},
     "output_type": "execute_result"
    }
   ],
   "source": [
    "# def peliculas_duracion( Pelicula: str ): Se ingresa una pelicula. Debe devolver la duracion y el año.\n",
    "# Ejemplo de retorno: X . Duración: x. Año: xx\n",
    "\n",
    "def peliculas_duracion( Pelicula: str ):\n",
    "    DF = pd.read_csv(\"movies_dataset_modificado.csv\")\n",
    "    DF_title = DF.set_index(\"title\")\n",
    "    \n",
    "    duracion = DF_title.loc[Pelicula , \"runtime\"]\n",
    "    year = DF_title.loc[Pelicula , \"release_year\"]\n",
    "    return {'La pelicula': Pelicula, 'tiene una duración de': duracion , 'Año': year}\n",
    "\n",
    "peliculas_duracion(\"Toy Story\")"
   ]
  },
  {
   "cell_type": "code",
   "execution_count": 30,
   "metadata": {},
   "outputs": [
    {
     "name": "stderr",
     "output_type": "stream",
     "text": [
      "C:\\Users\\Alejandro\\AppData\\Local\\Temp\\ipykernel_1820\\109780394.py:7: FutureWarning: The default value of numeric_only in DataFrameGroupBy.sum is deprecated. In a future version, numeric_only will default to False. Either specify numeric_only or select only columns which should be valid for the function.\n",
      "  DF_SUM = DF.groupby([\"belongs_to_collection\"]).sum()\n",
      "C:\\Users\\Alejandro\\AppData\\Local\\Temp\\ipykernel_1820\\109780394.py:8: FutureWarning: The default value of numeric_only in DataFrameGroupBy.mean is deprecated. In a future version, numeric_only will default to False. Either specify numeric_only or select only columns which should be valid for the function.\n",
      "  DF_PROM = DF.groupby([\"belongs_to_collection\"]).mean()\n"
     ]
    },
    {
     "data": {
      "text/plain": [
       "{'La franquicia': 'Blue Crush Collection',\n",
       " 'posee la siguiente cantidad de peliculas': 2,\n",
       " 'con ganancia total': 51842679.0,\n",
       " 'y una ganancia promedio': 25921339.5}"
      ]
     },
     "execution_count": 30,
     "metadata": {},
     "output_type": "execute_result"
    }
   ],
   "source": [
    "# def franquicia( Franquicia: str ): Se ingresa la franquicia, retornando la cantidad de peliculas, ganancia total y promedio\n",
    "# Ejemplo de retorno: La franquicia X posee X peliculas, una ganancia total de x y una ganancia promedio de xx\n",
    "\n",
    "def franquicia(Franquicia: str):\n",
    "    ## Abro el archivo y aplico groupby para tener los df de donde tomare la info que me solicitan\n",
    "    DF = pd.read_csv(\"movies_dataset_modificado.csv\")\n",
    "    DF_SUM = DF.groupby([\"belongs_to_collection\"]).sum()\n",
    "    DF_PROM = DF.groupby([\"belongs_to_collection\"]).mean()\n",
    "    DF_COUNT = DF.groupby([\"belongs_to_collection\"]).count()\n",
    "    lista_collection = list(DF.belongs_to_collection)\n",
    "    \n",
    "    ## Verifico que el valor sea valido\n",
    "    \n",
    "    if Franquicia not in lista_collection:\n",
    "        return {'Franquicia':\"Valor incorrecto\", 'cantidad':\"Error\", 'ganancia_total':\"Error\", 'ganancia_promedio':\"Error\"}\n",
    "    \n",
    "    ## Ubico los valores de la franquicia a traves de la funcion loc\n",
    "\n",
    "    resp_cant = DF_COUNT.loc[Franquicia, 'revenue']\n",
    "\n",
    "    resp_gan_tot = DF_SUM.loc[Franquicia, 'revenue']\n",
    "\n",
    "    resp_gan_prom = DF_PROM.loc[Franquicia, 'revenue']\n",
    "\n",
    "\n",
    "    return {'La franquicia':Franquicia, 'posee la siguiente cantidad de peliculas':resp_cant, 'con ganancia total':resp_gan_tot, 'y una ganancia promedio':resp_gan_prom}\n",
    "\n",
    "franquicia(\"Blue Crush Collection\")\n",
    "\n"
   ]
  },
  {
   "cell_type": "code",
   "execution_count": 31,
   "metadata": {},
   "outputs": [
    {
     "data": {
      "text/plain": [
       "{'Se produjeron la siguiente cantidad': 254,\n",
       " 'de películas en el país': 'Argentina'}"
      ]
     },
     "execution_count": 31,
     "metadata": {},
     "output_type": "execute_result"
    }
   ],
   "source": [
    "# def peliculas_pais( Pais: str ): Se ingresa un país (como están escritos en el dataset, no hay que traducirlos!), retornando la cantidad de peliculas producidas en el mismo.\n",
    "# Ejemplo de retorno: Se produjeron X películas en el país X\n",
    "\n",
    "\n",
    "def peliculas_pais( Pais: str ):\n",
    "    ## Abro el archivo y genero una lista con los valores de los paises\n",
    "    DF = pd.read_csv(\"movies_dataset_modificado.csv\")\n",
    "    list_countries = list(DF.production_countries.values)\n",
    "    \n",
    "    ## Cuento cada vez que se nombra un país ya que la list_countries es una lista de listas, de esta forma puedo contar al país aún cuando aparece en una lista con otro país\n",
    "    cantidad = sum(1 for item in list_countries if re.search(Pais, str(item)))\n",
    "    return {'Se produjeron la siguiente cantidad':cantidad , 'de películas en el país':Pais }\n",
    "\n",
    "\n",
    "peliculas_pais('Argentina')\n"
   ]
  },
  {
   "cell_type": "code",
   "execution_count": 32,
   "metadata": {},
   "outputs": [
    {
     "data": {
      "text/plain": [
       "{'La productora': 'Paramount Pictures',\n",
       " 'realizó peliculas por la cantidad de': 1011,\n",
       " 'revenue total': 48905779538.0}"
      ]
     },
     "execution_count": 32,
     "metadata": {},
     "output_type": "execute_result"
    }
   ],
   "source": [
    "# def productoras_exitosas( Productora: str ): Se ingresa la productora, entregandote el revunue total y la cantidad de peliculas que realizo.\n",
    "# Ejemplo de retorno: La productora X ha tenido un revenue de x\n",
    "\n",
    "def productoras_exitosas(Productora: str):\n",
    "    DF = pd.read_csv(\"movies_dataset_modificado.csv\")\n",
    "    list_companies = list(DF.production_companies.values)\n",
    "    \n",
    "    # Convertir la columna 'production_companies' en una lista de listas de strings\n",
    "    DF['production_companies'] = DF['production_companies'].apply(ast.literal_eval)\n",
    "    \n",
    "    # Filtrar el DataFrame por la productora especificada\n",
    "    companie_movies = DF[DF['production_companies'].apply(lambda x: any(Productora.lower() in item.lower() for item in x))]\n",
    "    \n",
    "    \n",
    "    \n",
    "    sum_revenue = companie_movies['revenue'].sum()\n",
    "    cantidad = sum(1 for item in list_companies if re.search(Productora, str(item)))\n",
    "    \n",
    "    return {'La productora': Productora, 'realizó peliculas por la cantidad de': cantidad, 'revenue total': sum_revenue}\n",
    "\n",
    "\n",
    "\n",
    "\n",
    "productoras_exitosas(\"Paramount Pictures\")"
   ]
  },
  {
   "cell_type": "code",
   "execution_count": 33,
   "metadata": {},
   "outputs": [
    {
     "data": {
      "text/plain": [
       "{'Director': 'Stephen Herek',\n",
       " 'Retorno total': 26.682217615155945,\n",
       " 'Pelicula, fecha de lanzamiento, costo, retorno individual, ganancia': [[\"Mr. Holland's Opus\",\n",
       "   '1995-12-29',\n",
       "   0,\n",
       "   106269971.0,\n",
       "   0.0],\n",
       "  ['The Three Musketeers',\n",
       "   '1993-11-11',\n",
       "   30000000,\n",
       "   53898845.0,\n",
       "   1.7966281666666666],\n",
       "  ['101 Dalmatians', '1996-11-17', 54000000, 320689294.0, 5.93869062962963],\n",
       "  ['The Mighty Ducks', '1992-10-01', 10000000, 50752337.0, 5.0752337],\n",
       "  ['Holy Man', '1998-10-08', 60000000, 0.0, 0.0],\n",
       "  [\"Don't Tell Mom the Babysitter's Dead\",\n",
       "   '1991-06-07',\n",
       "   10000000,\n",
       "   25196249.0,\n",
       "   2.5196249],\n",
       "  ['Critters', '1986-04-11', 2000000, 13167232.0, 6.583616],\n",
       "  [\"Bill & Ted's Excellent Adventure\",\n",
       "   '1989-02-17',\n",
       "   10000000,\n",
       "   40485039.0,\n",
       "   4.0485039],\n",
       "  ['Rock Star', '2001-09-04', 57000000, 16991902.0, 0.2981035438596491],\n",
       "  ['Life or Something Like It',\n",
       "   '2002-04-26',\n",
       "   40000000,\n",
       "   16872671.0,\n",
       "   0.421816775],\n",
       "  ['Man of the House', '2005-02-25', 40000000, 0.0, 0.0],\n",
       "  ['Dead Like Me: Life After Death', '2009-02-17', 0, 0.0, 0.0],\n",
       "  ['Into the Blue 2: The Reef', '2009-04-21', 0, 0.0, 0.0],\n",
       "  ['The Chaperone', '2011-02-11', 0, 0.0, 0.0],\n",
       "  ['Picture This', '2008-07-13', 0, 0.0, 0.0],\n",
       "  ['The Cutting Edge: Fire & Ice', '2010-03-14', 0, 0.0, 0.0],\n",
       "  ['The Great Gilly Hopkins', '2015-10-05', 5000000, 0.0, 0.0],\n",
       "  [\"Dolly Parton's Christmas of Many Colors: Circle of Love\",\n",
       "   '2016-11-30',\n",
       "   0,\n",
       "   0.0,\n",
       "   0.0]]}"
      ]
     },
     "execution_count": 33,
     "metadata": {},
     "output_type": "execute_result"
    }
   ],
   "source": [
    "# def get_director( nombre_director ): Se ingresa el nombre de un director que se encuentre dentro de un dataset debiendo devolver el éxito del mismo medido a través del retorno. Además, deberá devolver el nombre de cada película con la fecha de lanzamiento, retorno individual, costo y ganancia de la misma, en formato lista.\n",
    "\n",
    "\n",
    "\n",
    "def get_director(nombre_director):\n",
    "    DF = pd.read_csv(\"movies_dataset_modificado.csv\")\n",
    "\n",
    "    director_movies = DF[DF['crew'] == nombre_director]\n",
    "    sum_return = director_movies['return'].sum()\n",
    "\n",
    "    movies_data = director_movies[['title', 'release_date', 'budget', 'revenue', 'return']].values.tolist()\n",
    "\n",
    "    return {'Director': nombre_director, 'Retorno total': sum_return, 'Pelicula, fecha de lanzamiento, costo, retorno individual, ganancia': movies_data}\n",
    "\n",
    "\n",
    "\n",
    "get_director(\"Stephen Herek\")\n",
    "\n"
   ]
  },
  {
   "cell_type": "code",
   "execution_count": 35,
   "metadata": {},
   "outputs": [
    {
     "data": {
      "text/plain": [
       "{'Pelicula': 'The Gangster',\n",
       " 'Sugerencias': ['The Great Kidnapping',\n",
       "  \"Charlie Chan's Secret\",\n",
       "  'Gun Crazy',\n",
       "  'Southern Baptist Sissies',\n",
       "  'Bambou']}"
      ]
     },
     "execution_count": 35,
     "metadata": {},
     "output_type": "execute_result"
    }
   ],
   "source": [
    "## def recomendacion( titulo ): Se ingresa el nombre de una película y te recomienda las similares en una lista de 5 valores.\n",
    "\n",
    "def recomendacion(titulo):\n",
    "    DF = pd.read_csv(\"movies_dataset_modificado.csv\")\n",
    "    Recomendaciones = []\n",
    "    other_movies = DF[DF['title'] == titulo]\n",
    "\n",
    "    belongs_to_collection_value = other_movies['belongs_to_collection'].values\n",
    "    if len(belongs_to_collection_value) > 0:\n",
    "        collection_movies = DF[DF['belongs_to_collection'] == belongs_to_collection_value[0]]\n",
    "        if not collection_movies.empty:\n",
    "            max_vote_average_movie = collection_movies.sort_values('vote_average', ascending=False).iloc[0]\n",
    "            if max_vote_average_movie['title'] != titulo:\n",
    "                Recomendaciones.append(max_vote_average_movie['title'])\n",
    "\n",
    "    genres_value = other_movies['genres'].values\n",
    "    if len(genres_value) > 0:\n",
    "        genre_movies = DF[DF['genres'] == genres_value[0]]\n",
    "        if not genre_movies.empty:\n",
    "            max_vote_average_genre_movie = genre_movies.sort_values('vote_average', ascending=False).iloc[0]\n",
    "            if max_vote_average_genre_movie['title'] != titulo:\n",
    "                Recomendaciones.append(max_vote_average_genre_movie['title'])\n",
    "\n",
    "    crew_value = other_movies['crew'].values\n",
    "    if len(crew_value) > 0:\n",
    "        crew_movies = DF[DF['crew'] == crew_value[0]]\n",
    "        if not crew_movies.empty:\n",
    "            max_vote_average_crew_movie = crew_movies.sort_values('vote_average', ascending=False).iloc[0]\n",
    "            if max_vote_average_crew_movie['title'] != titulo:\n",
    "                Recomendaciones.append(max_vote_average_crew_movie['title'])\n",
    "\n",
    "    production_companies_value = other_movies['production_companies'].values\n",
    "    if len(production_companies_value) > 0:\n",
    "        companies_movies = DF[DF['production_companies'] == production_companies_value[0]]\n",
    "        if not companies_movies.empty:\n",
    "            max_vote_average_companies_movie = companies_movies.sort_values('vote_average', ascending=False).iloc[0]\n",
    "            if max_vote_average_companies_movie['title'] != titulo:\n",
    "                Recomendaciones.append(max_vote_average_companies_movie['title'])\n",
    "\n",
    "    production_countries_value = other_movies['production_countries'].values\n",
    "    if len(production_countries_value) > 0:\n",
    "        countries_movies = DF[DF['production_countries'] == production_countries_value[0]]\n",
    "        if not countries_movies.empty:\n",
    "            max_vote_average_countries_movie = countries_movies.sort_values('vote_average', ascending=False).iloc[0]\n",
    "            if max_vote_average_countries_movie['title'] != titulo:\n",
    "                Recomendaciones.append(max_vote_average_countries_movie['title'])\n",
    "\n",
    "    num_recommendations = len(Recomendaciones)\n",
    "    while num_recommendations < 5:\n",
    "        random_movie = DF.sample(n=1)\n",
    "        random_title = random_movie['title'].values[0]\n",
    "        if random_title not in Recomendaciones:\n",
    "            Recomendaciones.append(random_title)\n",
    "            num_recommendations += 1\n",
    "\n",
    "    return {'Pelicula': titulo, 'Sugerencias': Recomendaciones}\n",
    "\n",
    "\n",
    "recomendacion(\"The Gangster\")\n"
   ]
  }
 ],
 "metadata": {
  "kernelspec": {
   "display_name": "Python 3",
   "language": "python",
   "name": "python3"
  },
  "language_info": {
   "codemirror_mode": {
    "name": "ipython",
    "version": 3
   },
   "file_extension": ".py",
   "mimetype": "text/x-python",
   "name": "python",
   "nbconvert_exporter": "python",
   "pygments_lexer": "ipython3",
   "version": "3.11.1"
  },
  "orig_nbformat": 4
 },
 "nbformat": 4,
 "nbformat_minor": 2
}
