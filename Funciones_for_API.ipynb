{
 "cells": [
  {
   "cell_type": "code",
   "execution_count": null,
   "metadata": {},
   "outputs": [
    {
     "ename": "",
     "evalue": "",
     "output_type": "error",
     "traceback": [
      "\u001b[1;31mRunning cells with 'venv' requires the ipykernel package.\n",
      "\u001b[1;31mRun the following command to install 'ipykernel' into the Python environment. \n",
      "\u001b[1;31mCommand: '\"e:/archivos henry/Data 12/API2/venv/Scripts/python.exe\" -m pip install ipykernel -U --force-reinstall'"
     ]
    }
   ],
   "source": [
    "import pandas as pd\n",
    "import re\n",
    "import ast"
   ]
  },
  {
   "cell_type": "code",
   "execution_count": null,
   "metadata": {},
   "outputs": [
    {
     "ename": "",
     "evalue": "",
     "output_type": "error",
     "traceback": [
      "\u001b[1;31mRunning cells with 'venv' requires the ipykernel package.\n",
      "\u001b[1;31mRun the following command to install 'ipykernel' into the Python environment. \n",
      "\u001b[1;31mCommand: '\"e:/archivos henry/Data 12/API2/venv/Scripts/python.exe\" -m pip install ipykernel -U --force-reinstall'"
     ]
    }
   ],
   "source": [
    "# def peliculas_idioma( Idioma: str ): Se ingresa un idioma (como están escritos en el dataset, no hay que traducirlos!). Debe devolver la cantidad de películas producidas en ese idioma.\n",
    "# Ejemplo de retorno: X cantidad de películas fueron estrenadas en idioma\n",
    "\n",
    "def peliculas_idioma( Idioma: str ):\n",
    "    ## Abro el archivo y creo una lista con los valores de los idiomas\n",
    "    DF = pd.read_csv(\"movies_dataset_modificado.csv\")\n",
    "    list_lang = list(DF.spoken_languages.values)\n",
    "    \n",
    "    cantidad = sum(1 for item in list_lang if re.search(Idioma, str(item)))\n",
    "    return {'Se produjeron la cantidad de':cantidad , 'películas en el idioma':Idioma }\n",
    "\n",
    "peliculas_idioma(\"English\")\n",
    "\n"
   ]
  },
  {
   "cell_type": "code",
   "execution_count": 30,
   "metadata": {},
   "outputs": [
    {
     "name": "stderr",
     "output_type": "stream",
     "text": [
      "C:\\Users\\Alejandro\\AppData\\Local\\Temp\\ipykernel_17684\\3252566912.py:5: DtypeWarning: Columns (6) have mixed types. Specify dtype option on import or set low_memory=False.\n",
      "  DF = pd.read_csv(\"movies_dataset_modificado.csv\")\n"
     ]
    },
    {
     "data": {
      "text/plain": [
       "{'La pelicula': 'Jumanji', 'tiene una duración de': 104.0, 'Año': 1995}"
      ]
     },
     "execution_count": 30,
     "metadata": {},
     "output_type": "execute_result"
    }
   ],
   "source": [
    "# def peliculas_duracion( Pelicula: str ): Se ingresa una pelicula. Debe devolver la duracion y el año.\n",
    "# Ejemplo de retorno: X . Duración: x. Año: xx\n",
    "\n",
    "def peliculas_duracion( Pelicula: str ):\n",
    "    DF = pd.read_csv(\"movies_dataset_modificado.csv\")\n",
    "    DF_title = DF.set_index(\"title\")\n",
    "    \n",
    "    duracion = DF_title.loc[Pelicula , \"runtime\"]\n",
    "    year = DF_title.loc[Pelicula , \"release_year\"]\n",
    "    return {'La pelicula': Pelicula, 'tiene una duración de': duracion , 'Año': year}\n",
    "\n",
    "peliculas_duracion(\"Jumanji\")"
   ]
  },
  {
   "cell_type": "code",
   "execution_count": 21,
   "metadata": {},
   "outputs": [
    {
     "name": "stderr",
     "output_type": "stream",
     "text": [
      "C:\\Users\\Alejandro\\AppData\\Local\\Temp\\ipykernel_17684\\377395460.py:6: DtypeWarning: Columns (6) have mixed types. Specify dtype option on import or set low_memory=False.\n",
      "  DF = pd.read_csv(\"movies_dataset_modificado.csv\")\n",
      "C:\\Users\\Alejandro\\AppData\\Local\\Temp\\ipykernel_17684\\377395460.py:7: FutureWarning: The default value of numeric_only in DataFrameGroupBy.sum is deprecated. In a future version, numeric_only will default to False. Either specify numeric_only or select only columns which should be valid for the function.\n",
      "  DF_SUM = DF.groupby([\"belongs_to_collection\"]).sum()\n",
      "C:\\Users\\Alejandro\\AppData\\Local\\Temp\\ipykernel_17684\\377395460.py:8: FutureWarning: The default value of numeric_only in DataFrameGroupBy.mean is deprecated. In a future version, numeric_only will default to False. Either specify numeric_only or select only columns which should be valid for the function.\n",
      "  DF_PROM = DF.groupby([\"belongs_to_collection\"]).mean()\n"
     ]
    },
    {
     "data": {
      "text/plain": [
       "{'La franquicia': 'The Bowery Boys',\n",
       " 'posee la siguiente cantidad de peliculas': 29,\n",
       " 'con ganancia total': 0.0,\n",
       " 'y una ganancia promedio': 0.0}"
      ]
     },
     "execution_count": 21,
     "metadata": {},
     "output_type": "execute_result"
    }
   ],
   "source": [
    "# def franquicia( Franquicia: str ): Se ingresa la franquicia, retornando la cantidad de peliculas, ganancia total y promedio\n",
    "# Ejemplo de retorno: La franquicia X posee X peliculas, una ganancia total de x y una ganancia promedio de xx\n",
    "\n",
    "def franquicia(Franquicia: str):\n",
    "    ## Abro el archivo y aplico groupby para tener los df de donde tomare la info que me solicitan\n",
    "    DF = pd.read_csv(\"movies_dataset_modificado.csv\")\n",
    "    DF_SUM = DF.groupby([\"belongs_to_collection\"]).sum()\n",
    "    DF_PROM = DF.groupby([\"belongs_to_collection\"]).mean()\n",
    "    DF_COUNT = DF.groupby([\"belongs_to_collection\"]).count()\n",
    "    lista_collection = list(DF.belongs_to_collection)\n",
    "    \n",
    "    ## Verifico que el valor sea valido\n",
    "    \n",
    "    if Franquicia not in lista_collection:\n",
    "        return {'Franquicia':\"Valor incorrecto\", 'cantidad':\"Error\", 'ganancia_total':\"Error\", 'ganancia_promedio':\"Error\"}\n",
    "    \n",
    "    ## Ubico los valores de la franquicia a traves de la funcion loc\n",
    "\n",
    "    resp_cant = DF_COUNT.loc[Franquicia, 'revenue']\n",
    "\n",
    "    resp_gan_tot = DF_SUM.loc[Franquicia, 'revenue']\n",
    "\n",
    "    resp_gan_prom = DF_PROM.loc[Franquicia, 'revenue']\n",
    "\n",
    "\n",
    "    return {'La franquicia':Franquicia, 'posee la siguiente cantidad de peliculas':resp_cant, 'con ganancia total':resp_gan_tot, 'y una ganancia promedio':resp_gan_prom}\n",
    "\n",
    "franquicia(\"The Bowery Boys\")\n",
    "\n"
   ]
  },
  {
   "cell_type": "code",
   "execution_count": 20,
   "metadata": {},
   "outputs": [
    {
     "name": "stderr",
     "output_type": "stream",
     "text": [
      "C:\\Users\\Alejandro\\AppData\\Local\\Temp\\ipykernel_17684\\874805694.py:7: DtypeWarning: Columns (6) have mixed types. Specify dtype option on import or set low_memory=False.\n",
      "  DF = pd.read_csv(\"movies_dataset_modificado.csv\")\n"
     ]
    },
    {
     "data": {
      "text/plain": [
       "{'Se produjeron la siguiente cantidad': 2260,\n",
       " 'de películas en el país': 'Germany'}"
      ]
     },
     "execution_count": 20,
     "metadata": {},
     "output_type": "execute_result"
    }
   ],
   "source": [
    "# def peliculas_pais( Pais: str ): Se ingresa un país (como están escritos en el dataset, no hay que traducirlos!), retornando la cantidad de peliculas producidas en el mismo.\n",
    "# Ejemplo de retorno: Se produjeron X películas en el país X\n",
    "\n",
    "\n",
    "def peliculas_pais( Pais: str ):\n",
    "    ## Abro el archivo y genero una lista con los valores de los paises\n",
    "    DF = pd.read_csv(\"movies_dataset_modificado.csv\")\n",
    "    list_countries = list(DF.production_countries.values)\n",
    "    \n",
    "    ## Cuento cada vez que se nombra un país ya que la list_countries es una lista de listas, de esta forma puedo contar al país aún cuando aparece en una lista con otro país\n",
    "    cantidad = sum(1 for item in list_countries if re.search(Pais, str(item)))\n",
    "    return {'Se produjeron la siguiente cantidad':cantidad , 'de películas en el país':Pais }\n",
    "\n",
    "\n",
    "peliculas_pais('Germany')\n"
   ]
  },
  {
   "cell_type": "code",
   "execution_count": 35,
   "metadata": {},
   "outputs": [
    {
     "data": {
      "text/plain": [
       "{'La productora': 'Warner Bros.',\n",
       " 'realizó peliculas por la cantidad de': 1374,\n",
       " 'revenue': 67156995259.0}"
      ]
     },
     "execution_count": 35,
     "metadata": {},
     "output_type": "execute_result"
    }
   ],
   "source": [
    "# def productoras_exitosas( Productora: str ): Se ingresa la productora, entregandote el revunue total y la cantidad de peliculas que realizo.\n",
    "# Ejemplo de retorno: La productora X ha tenido un revenue de x\n",
    "\n",
    "def productoras_exitosas(Productora: str):\n",
    "    DF = pd.read_csv(\"movies_dataset_modificado.csv\")\n",
    "    list_companies = list(DF.production_companies.values)\n",
    "    \n",
    "    # Convertir la columna 'production_companies' en una lista de listas de strings\n",
    "    DF['production_companies'] = DF['production_companies'].apply(ast.literal_eval)\n",
    "    \n",
    "    # Filtrar el DataFrame por la productora especificada\n",
    "    companie_movies = DF[DF['production_companies'].apply(lambda x: any(Productora.lower() in item.lower() for item in x))]\n",
    "    \n",
    "    \n",
    "    \n",
    "    sum_revenue = companie_movies['revenue'].sum()\n",
    "    cantidad = sum(1 for item in list_companies if re.search(Productora, str(item)))\n",
    "    \n",
    "    return {'La productora': Productora, 'realizó peliculas por la cantidad de': cantidad, 'revenue total': sum_revenue}\n",
    "\n",
    "\n",
    "\n",
    "\n",
    "productoras_exitosas(\"Warner Bros.\")"
   ]
  },
  {
   "cell_type": "code",
   "execution_count": 11,
   "metadata": {},
   "outputs": [
    {
     "data": {
      "text/plain": [
       "{'Director': 'John Lasseter',\n",
       " 'Retorno total': 27.65437835777778,\n",
       " 'Pelicula, fecha de lanzamiento, costo, retorno individual, ganancia': [['Toy Story',\n",
       "   '1995-10-30',\n",
       "   30000000,\n",
       "   373554033.0,\n",
       "   12.4518011],\n",
       "  [\"A Bug's Life\", '1998-11-25', 120000000, 363258859.0, 3.027157158333333],\n",
       "  ['Toy Story 2', '1999-10-30', 90000000, 497366869.0, 5.526298544444445],\n",
       "  ['Luxo Jr.', '1986-08-17', 0, 0.0, 0.0],\n",
       "  ['Cars', '2006-06-08', 120000000, 461983149.0, 3.849859575],\n",
       "  ['Cars 2', '2011-06-11', 200000000, 559852396.0, 2.79926198],\n",
       "  ['Tin Toy', '1988-08-01', 0, 0.0, 0.0],\n",
       "  [\"Red's Dream\", '1987-08-17', 0, 0.0, 0.0],\n",
       "  ['Knick Knack', '1989-01-01', 0, 0.0, 0.0],\n",
       "  ['Mater and the Ghostlight', '2006-07-27', 0, 0.0, 0.0]]}"
      ]
     },
     "execution_count": 11,
     "metadata": {},
     "output_type": "execute_result"
    }
   ],
   "source": [
    "# def get_director( nombre_director ): Se ingresa el nombre de un director que se encuentre dentro de un dataset debiendo devolver el éxito del mismo medido a través del retorno. Además, deberá devolver el nombre de cada película con la fecha de lanzamiento, retorno individual, costo y ganancia de la misma, en formato lista.\n",
    "\n",
    "\n",
    "\n",
    "def get_director(nombre_director):\n",
    "    DF = pd.read_csv(\"movies_dataset_modificado.csv\")\n",
    "\n",
    "    director_movies = DF[DF['crew'] == nombre_director]\n",
    "    sum_return = director_movies['return'].sum()\n",
    "\n",
    "    movies_data = director_movies[['title', 'release_date', 'budget', 'revenue', 'return']].values.tolist()\n",
    "\n",
    "    return {'Director': nombre_director, 'Retorno total': sum_return, 'Pelicula, fecha de lanzamiento, costo, retorno individual, ganancia': movies_data}\n",
    "\n",
    "\n",
    "\n",
    "get_director(\"John Lasseter\")\n",
    "\n"
   ]
  },
  {
   "cell_type": "code",
   "execution_count": 7,
   "metadata": {},
   "outputs": [],
   "source": [
    "\n",
    "\n",
    "DF = pd.read_csv(\"movies_dataset_modificado.csv\")\n",
    "\n",
    "DF['crew'] = DF['crew'].apply(ast.literal_eval)\n",
    "DF['crew'] = DF['crew'].apply(lambda x: [member['name'] for member in x if member['job'] == 'Director'][0] if any(member['job'] == 'Director' for member in x) else '')\n",
    "DF = DF.drop(columns=[\"cast\"])\n",
    "DF.to_csv(\"movies_dataset_modificado.csv\", index=False)\n"
   ]
  },
  {
   "cell_type": "code",
   "execution_count": 10,
   "metadata": {},
   "outputs": [
    {
     "data": {
      "text/plain": [
       "0           John Lasseter\n",
       "1            Joe Johnston\n",
       "2           Howard Deutch\n",
       "3         Forest Whitaker\n",
       "4           Charles Shyer\n",
       "               ...       \n",
       "45446          John Irvin\n",
       "45447            Lav Diaz\n",
       "45448      Mark L. Lester\n",
       "45449    Yakov Protazanov\n",
       "45450       Daisy Asquith\n",
       "Name: crew, Length: 45451, dtype: object"
      ]
     },
     "execution_count": 10,
     "metadata": {},
     "output_type": "execute_result"
    }
   ],
   "source": [
    "df = pd.read_csv(\"movies_dataset_modificado.csv\")\n",
    "df[\"crew\"]"
   ]
  }
 ],
 "metadata": {
  "kernelspec": {
   "display_name": "Python 3",
   "language": "python",
   "name": "python3"
  },
  "language_info": {
   "codemirror_mode": {
    "name": "ipython",
    "version": 3
   },
   "file_extension": ".py",
   "mimetype": "text/x-python",
   "name": "python",
   "nbconvert_exporter": "python",
   "pygments_lexer": "ipython3",
   "version": "3.11.1"
  },
  "orig_nbformat": 4
 },
 "nbformat": 4,
 "nbformat_minor": 2
}
