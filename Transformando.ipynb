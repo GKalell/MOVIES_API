{
 "cells": [
  {
   "cell_type": "code",
   "execution_count": 40,
   "metadata": {},
   "outputs": [],
   "source": [
    "import pandas as pd\n",
    "import numpy as np\n",
    "import ast\n",
    "\n"
   ]
  },
  {
   "cell_type": "code",
   "execution_count": null,
   "metadata": {},
   "outputs": [],
   "source": [
    "df = pd.read_csv(\"movies_dataset.csv\")\n",
    "\n",
    "## abro el dataset en formato json, sin embargo no encuentro ninguna ventaja \n",
    "'''\n",
    "json_data = df.to_json(orient='records')\n",
    "with open('movies_dataset.json', 'w') as json_file:\n",
    "    json_file.write(json_data)\n",
    "df_json = pd.read_json(\"movies_dataset.json\")\n",
    "df_json.info()\n",
    "'''\n",
    "df"
   ]
  },
  {
   "attachments": {},
   "cell_type": "markdown",
   "metadata": {},
   "source": [
    "Transformamos la columna genres en listas"
   ]
  },
  {
   "cell_type": "code",
   "execution_count": 42,
   "metadata": {},
   "outputs": [
    {
     "name": "stderr",
     "output_type": "stream",
     "text": [
      "C:\\Users\\Alejandro\\AppData\\Local\\Temp\\ipykernel_420\\326775285.py:5: DtypeWarning: Columns (10) have mixed types. Specify dtype option on import or set low_memory=False.\n",
      "  DF = pd.read_csv(\"movies_dataset.csv\",converters={'genres': parse_genres})\n"
     ]
    }
   ],
   "source": [
    "def parse_genres(genres_str):\n",
    "    genres = ast.literal_eval(genres_str)\n",
    "    return [g['name'] for g in genres]\n",
    "\n",
    "DF = pd.read_csv(\"movies_dataset.csv\",converters={'genres': parse_genres})\n",
    "\n",
    "DF.to_csv(\"movies_dataset_modificado.csv\", index=False)"
   ]
  },
  {
   "attachments": {},
   "cell_type": "markdown",
   "metadata": {},
   "source": [
    "Transformando la columna \"belong_to...\""
   ]
  },
  {
   "cell_type": "code",
   "execution_count": 43,
   "metadata": {},
   "outputs": [
    {
     "name": "stderr",
     "output_type": "stream",
     "text": [
      "C:\\Users\\Alejandro\\AppData\\Local\\Temp\\ipykernel_420\\2523802743.py:1: DtypeWarning: Columns (10) have mixed types. Specify dtype option on import or set low_memory=False.\n",
      "  df2 = pd.read_csv(\"movies_dataset_modificado.csv\")\n"
     ]
    }
   ],
   "source": [
    "\n",
    "df2 = pd.read_csv(\"movies_dataset_modificado.csv\")\n",
    "df2['belongs_to_collection'] = df2['belongs_to_collection'].astype(str)\n",
    "'''def parse_belongs_to_collection(belongs_to_collection_str):\n",
    "    if isinstance(belongs_to_collection_str, float) and math.isnan(belongs_to_collection_str):\n",
    "        return None\n",
    "    elif isinstance(belongs_to_collection_str, str):\n",
    "        belongs_to_collection = json.loads(belongs_to_collection_str)\n",
    "        return belongs_to_collection.get('name')\n",
    "    else:\n",
    "        return None\n",
    "'''\n",
    "\n",
    "\n",
    "def parse_belongs_to_collection(belongs_to_collection_str):\n",
    "    try:\n",
    "        if pd.isnull(belongs_to_collection_str) or belongs_to_collection_str == \"nan\":\n",
    "            return None\n",
    "        elif isinstance(belongs_to_collection_str, str):\n",
    "            belongs_to_collection = eval(belongs_to_collection_str)\n",
    "            if isinstance(belongs_to_collection, dict):\n",
    "                return belongs_to_collection.get('name')\n",
    "        return None\n",
    "    except (SyntaxError, ValueError, TypeError):\n",
    "        return None\n",
    "\n",
    "df2['belongs_to_collection'] = df2['belongs_to_collection'].astype(str)\n",
    "df2['belongs_to_collection'] = df2['belongs_to_collection'].apply(parse_belongs_to_collection)\n",
    "\n",
    "'''\n",
    "df2 = pd.read_csv(\"movies_dataset_modificado.csv\",converters={'belongs_to_collection': parse_belongs_to_collection})\n",
    "'''\n",
    "#df.to_csv(\"movies_dataset_modificado.csv\",index=False)\n",
    "#df1 = pd.read_csv(\"movies_dataset_modificado.csv\")\n",
    "# df = pd.read_csv(\"movies_dataset.csv\")\n",
    "#df1[\"belongs_to_collection\"]\n",
    "\n",
    "df2.to_csv(\"movies_dataset_modificado.csv\",index=False)\n",
    "\n"
   ]
  },
  {
   "cell_type": "markdown",
   "metadata": {},
   "source": [
    "Ensayo conversiones de los valores de la columna belongs por los errores que me presenta al intentar tomar los datos. Error \"AttributeError: 'float' object has no attribute 'get'\""
   ]
  },
  {
   "cell_type": "code",
   "execution_count": 44,
   "metadata": {},
   "outputs": [
    {
     "data": {
      "text/plain": [
       "'\\ndf[\\'belongs_to_collection\\'] = df[\\'belongs_to_collection\\'].astype(str)\\nserie = pd.Series(df2[\"belongs_to_collection\"].values)\\nlista = list(serie)\\nprint(list(serie))\\nfor n in lista:\\n    print(type(n))\\n'"
      ]
     },
     "execution_count": 44,
     "metadata": {},
     "output_type": "execute_result"
    }
   ],
   "source": [
    "### Convierto la columna con valores tipo float a str y compruebo el resultado.\n",
    "\n",
    "'''\n",
    "df['belongs_to_collection'] = df['belongs_to_collection'].astype(str)\n",
    "serie = pd.Series(df2[\"belongs_to_collection\"].values)\n",
    "lista = list(serie)\n",
    "print(list(serie))\n",
    "for n in lista:\n",
    "    print(type(n))\n",
    "'''"
   ]
  },
  {
   "attachments": {},
   "cell_type": "markdown",
   "metadata": {},
   "source": [
    "Eliminamos las columnas \"video, imdb_id, adult, original_title, poster_path y homepage\""
   ]
  },
  {
   "cell_type": "code",
   "execution_count": 45,
   "metadata": {},
   "outputs": [
    {
     "name": "stderr",
     "output_type": "stream",
     "text": [
      "C:\\Users\\Alejandro\\AppData\\Local\\Temp\\ipykernel_420\\1094942841.py:1: DtypeWarning: Columns (10) have mixed types. Specify dtype option on import or set low_memory=False.\n",
      "  df = pd.read_csv(\"movies_dataset_modificado.csv\")\n"
     ]
    }
   ],
   "source": [
    "df = pd.read_csv(\"movies_dataset_modificado.csv\")\n",
    "\n",
    "df = df.drop(columns=[\"video\", \"imdb_id\", \"adult\", \"original_title\", \"poster_path\", \"homepage\"])\n",
    "df.to_csv(\"movies_dataset_modificado.csv\", index=False)\n"
   ]
  },
  {
   "cell_type": "markdown",
   "metadata": {},
   "source": [
    "Transformo la columna production_countries"
   ]
  },
  {
   "cell_type": "code",
   "execution_count": 46,
   "metadata": {},
   "outputs": [
    {
     "name": "stderr",
     "output_type": "stream",
     "text": [
      "C:\\Users\\Alejandro\\AppData\\Local\\Temp\\ipykernel_420\\918046821.py:1: DtypeWarning: Columns (6) have mixed types. Specify dtype option on import or set low_memory=False.\n",
      "  df3 = pd.read_csv(\"movies_dataset_modificado.csv\")\n",
      "C:\\Users\\Alejandro\\AppData\\Local\\Temp\\ipykernel_420\\918046821.py:16: DtypeWarning: Columns (6) have mixed types. Specify dtype option on import or set low_memory=False.\n",
      "  df3 = pd.read_csv(\"movies_dataset_modificado.csv\",converters={'production_countries': parse_production_countries})\n"
     ]
    },
    {
     "data": {
      "text/plain": [
       "\"\\nserie = pd.Series(df3['production_countries'].values)\\nlista = list(serie)\\nprint(list(serie))\\n\\nfor n in lista:\\n    print(type(n))\\n\""
      ]
     },
     "execution_count": 46,
     "metadata": {},
     "output_type": "execute_result"
    }
   ],
   "source": [
    "df3 = pd.read_csv(\"movies_dataset_modificado.csv\")\n",
    "df3['production_countries'] = df3['production_countries'].astype(str)\n",
    "\n",
    "def parse_production_countries(production_countries_str):\n",
    "    try:\n",
    "        if pd.isnull(production_countries_str) or production_countries_str == \"nan\":\n",
    "            return None\n",
    "        elif isinstance(production_countries_str, str):\n",
    "            production_countries = ast.literal_eval(production_countries_str)\n",
    "    \n",
    "        return [g['name'] for g in production_countries]\n",
    "    except (SyntaxError, ValueError, TypeError):\n",
    "        return None\n",
    "\n",
    "\n",
    "df3 = pd.read_csv(\"movies_dataset_modificado.csv\",converters={'production_countries': parse_production_countries})\n",
    "df3.to_csv(\"movies_dataset_modificado.csv\", index=False)\n",
    "'''\n",
    "serie = pd.Series(df3['production_countries'].values)\n",
    "lista = list(serie)\n",
    "print(list(serie))\n",
    "\n",
    "for n in lista:\n",
    "    print(type(n))\n",
    "'''"
   ]
  },
  {
   "cell_type": "markdown",
   "metadata": {},
   "source": [
    "Transformamos la columna prodction_companies"
   ]
  },
  {
   "cell_type": "code",
   "execution_count": 47,
   "metadata": {},
   "outputs": [
    {
     "name": "stderr",
     "output_type": "stream",
     "text": [
      "C:\\Users\\Alejandro\\AppData\\Local\\Temp\\ipykernel_420\\588667705.py:1: DtypeWarning: Columns (6) have mixed types. Specify dtype option on import or set low_memory=False.\n",
      "  df4 = pd.read_csv(\"movies_dataset_modificado.csv\")\n",
      "C:\\Users\\Alejandro\\AppData\\Local\\Temp\\ipykernel_420\\588667705.py:11: DtypeWarning: Columns (6) have mixed types. Specify dtype option on import or set low_memory=False.\n",
      "  df4 = pd.read_csv(\"movies_dataset_modificado.csv\",converters={'production_companies': parse_production_companies})\n"
     ]
    },
    {
     "data": {
      "text/plain": [
       "'\\ndf4 = pd.read_csv(\"movies_dataset_modificado.csv\")\\ndf4\\n'"
      ]
     },
     "execution_count": 47,
     "metadata": {},
     "output_type": "execute_result"
    }
   ],
   "source": [
    "df4 = pd.read_csv(\"movies_dataset_modificado.csv\")\n",
    "\n",
    "def parse_production_companies(production_companies_str):\n",
    "    try:\n",
    "        production_companies = ast.literal_eval(production_companies_str)\n",
    "    \n",
    "        return [g['name'] for g in production_companies]\n",
    "    except (SyntaxError, ValueError, TypeError):\n",
    "        return None\n",
    "\n",
    "df4 = pd.read_csv(\"movies_dataset_modificado.csv\",converters={'production_companies': parse_production_companies})    \n",
    "df4.to_csv(\"movies_dataset_modificado.csv\", index=False)\n",
    "\n",
    "### Verifico que la conversión sea correcta\n",
    "'''\n",
    "df4 = pd.read_csv(\"movies_dataset_modificado.csv\")\n",
    "df4\n",
    "'''"
   ]
  },
  {
   "cell_type": "markdown",
   "metadata": {},
   "source": [
    "Terminamos con la transformación de la columna spoken languages"
   ]
  },
  {
   "cell_type": "code",
   "execution_count": 48,
   "metadata": {},
   "outputs": [
    {
     "name": "stderr",
     "output_type": "stream",
     "text": [
      "C:\\Users\\Alejandro\\AppData\\Local\\Temp\\ipykernel_420\\1506268308.py:1: DtypeWarning: Columns (6) have mixed types. Specify dtype option on import or set low_memory=False.\n",
      "  df5 = pd.read_csv(\"movies_dataset_modificado.csv\")\n",
      "C:\\Users\\Alejandro\\AppData\\Local\\Temp\\ipykernel_420\\1506268308.py:11: DtypeWarning: Columns (6) have mixed types. Specify dtype option on import or set low_memory=False.\n",
      "  df5 = pd.read_csv(\"movies_dataset_modificado.csv\",converters={'spoken_languages': parse_spoken_languages})\n"
     ]
    }
   ],
   "source": [
    "df5 = pd.read_csv(\"movies_dataset_modificado.csv\")\n",
    "\n",
    "\n",
    "def parse_spoken_languages(spoken_languages_str):\n",
    "    try:\n",
    "        spoken_languages = ast.literal_eval(spoken_languages_str)\n",
    "        return [g['name'] for g in spoken_languages]\n",
    "    except (SyntaxError, ValueError, TypeError):\n",
    "        return None\n",
    "\n",
    "df5 = pd.read_csv(\"movies_dataset_modificado.csv\",converters={'spoken_languages': parse_spoken_languages})\n",
    "\n",
    "\n",
    "df5.to_csv(\"movies_dataset_modificado.csv\",index= False)\n"
   ]
  },
  {
   "cell_type": "markdown",
   "metadata": {},
   "source": [
    "Rellenamos las columnas Budget y Revenue"
   ]
  },
  {
   "cell_type": "code",
   "execution_count": 49,
   "metadata": {},
   "outputs": [
    {
     "name": "stderr",
     "output_type": "stream",
     "text": [
      "C:\\Users\\Alejandro\\AppData\\Local\\Temp\\ipykernel_420\\663481352.py:6: DtypeWarning: Columns (6) have mixed types. Specify dtype option on import or set low_memory=False.\n",
      "  df6 = pd.read_csv(\"movies_dataset_modificado.csv\")\n"
     ]
    }
   ],
   "source": [
    "### Los valores nulos de los campos revenue, budget deben ser rellenados por el número 0.\n",
    "\n",
    "\n",
    "\n",
    "\n",
    "df6 = pd.read_csv(\"movies_dataset_modificado.csv\")\n",
    "\n",
    "df6[\"budget\"] = df6[\"budget\"].fillna(0)\n",
    "df6[\"revenue\"] = df6[\"revenue\"].fillna(0)\n",
    "#df6[\"budget\"].notna().value_counts()\n",
    "#df6[\"revenue\"].notna().value_counts()\n",
    "#df6.info()\n",
    "df6.to_csv(\"movies_dataset_modificado.csv\", index=False)"
   ]
  },
  {
   "cell_type": "markdown",
   "metadata": {},
   "source": [
    "Uno los datasets movies y credits /\n",
    "Este paso no se puede realizar sin el archivo credits.csv que no puedo subir a git, sin embargo no afecta en nada al desarrollo del resto de las transformaciones. Es la unica transformación adicional que tuve que realizar"
   ]
  },
  {
   "cell_type": "code",
   "execution_count": 50,
   "metadata": {},
   "outputs": [
    {
     "name": "stderr",
     "output_type": "stream",
     "text": [
      "C:\\Users\\Alejandro\\AppData\\Local\\Temp\\ipykernel_420\\1864697361.py:2: DtypeWarning: Columns (6) have mixed types. Specify dtype option on import or set low_memory=False.\n",
      "  df_modificado = pd.read_csv(\"movies_dataset_modificado.csv\")\n"
     ]
    }
   ],
   "source": [
    "\n",
    "df_credits = pd.read_csv(\"credits.csv\")\n",
    "df_modificado = pd.read_csv(\"movies_dataset_modificado.csv\")\n",
    "df_credits.isna().value_counts()\n",
    "\n",
    "df_modificado[\"id\"].isna().value_counts()\n",
    "df_modificado = df_modificado[pd.to_numeric(df_modificado[\"id\"], errors='coerce').notnull()]\n",
    "df_modificado[\"id\"] = df_modificado[\"id\"].astype(\"Int64\")\n",
    "\n",
    "df_combined = pd.merge(df_modificado, df_credits, on= \"id\")\n",
    "df_combined[\"release_date\"].isnull().value_counts()\n",
    "\n",
    "## Realizo la transformacion sobre la columna crew por 2 motivos.\n",
    "#  1) para poder quedarme con el nombre del director\n",
    "#  2) Para poder ahorrar espacio.\n",
    "\n",
    "df_combined['crew'] = df_combined['crew'].apply(ast.literal_eval)\n",
    "df_combined['crew'] = df_combined['crew'].apply(lambda x: [member['name'] for member in x if member['job'] == 'Director'][0] if any(member['job'] == 'Director' for member in x) else '')\n",
    "\n",
    "## elimino la columna CAST por un tema de espacio\n",
    "df_combined = df_combined.drop(columns=[\"cast\"])\n",
    "\n",
    "## Guardo el dataset\n",
    "\n",
    "df_combined.to_csv(\"movies_dataset_modificado.csv\", index=False)\n"
   ]
  },
  {
   "cell_type": "markdown",
   "metadata": {},
   "source": [
    "Eliminamos los valores nulos del campo realease_date"
   ]
  },
  {
   "cell_type": "code",
   "execution_count": 51,
   "metadata": {},
   "outputs": [
    {
     "name": "stdout",
     "output_type": "stream",
     "text": [
      "<class 'pandas.core.series.Series'>\n",
      "RangeIndex: 45538 entries, 0 to 45537\n",
      "Series name: release_date\n",
      "Non-Null Count  Dtype \n",
      "--------------  ----- \n",
      "45451 non-null  object\n",
      "dtypes: object(1)\n",
      "memory usage: 355.9+ KB\n"
     ]
    }
   ],
   "source": [
    "df7 = pd.read_csv(\"movies_dataset_modificado.csv\")\n",
    "df7[\"release_date\"].info()\n",
    "df7 = df7.dropna(subset=[\"release_date\"])\n",
    "df7.to_csv(\"movies_dataset_modificado.csv\", index=False)"
   ]
  },
  {
   "cell_type": "markdown",
   "metadata": {},
   "source": [
    "Creo la columna Realease year y convierto las fechas a formato AAAA-mm-dd"
   ]
  },
  {
   "cell_type": "code",
   "execution_count": 52,
   "metadata": {},
   "outputs": [
    {
     "name": "stdout",
     "output_type": "stream",
     "text": [
      "<class 'pandas.core.series.Series'>\n",
      "RangeIndex: 45451 entries, 0 to 45450\n",
      "Series name: release_date\n",
      "Non-Null Count  Dtype \n",
      "--------------  ----- \n",
      "45451 non-null  object\n",
      "dtypes: object(1)\n",
      "memory usage: 355.2+ KB\n"
     ]
    }
   ],
   "source": [
    "df8 = pd.read_csv(\"movies_dataset_modificado.csv\")\n",
    "df8[\"release_date\"].info()\n",
    "### Creo la columna RELEASE YEAR\n",
    "\n",
    "df8[\"release_year\"] = df8[\"release_date\"].str[:4]\n",
    "df8[\"release_year\"] = df8[\"release_year\"].fillna(0).astype(int)\n",
    "### LUEGO ME ASEGURO QUE TODAS LAS FECHAS ESTEN EN FORMATO AAAA-mm-dd\n",
    "df8[\"release_date\"] = pd.to_datetime(df8[\"release_date\"], format=\"%Y-%m-%d\", errors=\"coerce\")\n",
    "\n",
    "df8.to_csv(\"movies_dataset_modificado.csv\", index=False)\n"
   ]
  },
  {
   "cell_type": "markdown",
   "metadata": {},
   "source": [
    "Creo la columna return = (revenue / budget)"
   ]
  },
  {
   "cell_type": "code",
   "execution_count": 53,
   "metadata": {},
   "outputs": [],
   "source": [
    "\n",
    "df9 = pd.read_csv(\"movies_dataset_modificado.csv\")\n",
    "df9[\"return\"] = np.where((df9[\"revenue\"] == 0) | (df9[\"budget\"] == 0), 0, df9[\"revenue\"] / df9[\"budget\"])\n",
    "df9[[\"budget\",\"revenue\",\"return\"]]\n",
    "df9.to_csv(\"movies_dataset_modificado.csv\", index=False)"
   ]
  },
  {
   "cell_type": "code",
   "execution_count": null,
   "metadata": {},
   "outputs": [],
   "source": []
  }
 ],
 "metadata": {
  "kernelspec": {
   "display_name": "Python 3",
   "language": "python",
   "name": "python3"
  },
  "language_info": {
   "codemirror_mode": {
    "name": "ipython",
    "version": 3
   },
   "file_extension": ".py",
   "mimetype": "text/x-python",
   "name": "python",
   "nbconvert_exporter": "python",
   "pygments_lexer": "ipython3",
   "version": "3.11.1"
  },
  "orig_nbformat": 4
 },
 "nbformat": 4,
 "nbformat_minor": 2
}
