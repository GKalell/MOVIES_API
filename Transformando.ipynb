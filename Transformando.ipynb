{
 "cells": [
  {
   "cell_type": "code",
   "execution_count": 40,
   "metadata": {},
   "outputs": [],
   "source": [
    "import pandas as pd\n",
    "import numpy as np\n",
    "import ast\n",
    "\n"
   ]
  },
  {
   "cell_type": "code",
   "execution_count": 41,
   "metadata": {},
   "outputs": [
    {
     "name": "stderr",
     "output_type": "stream",
     "text": [
      "C:\\Users\\Alejandro\\AppData\\Local\\Temp\\ipykernel_420\\253952292.py:1: DtypeWarning: Columns (10) have mixed types. Specify dtype option on import or set low_memory=False.\n",
      "  df = pd.read_csv(\"movies_dataset.csv\")\n"
     ]
    },
    {
     "data": {
      "text/html": [
       "<div>\n",
       "<style scoped>\n",
       "    .dataframe tbody tr th:only-of-type {\n",
       "        vertical-align: middle;\n",
       "    }\n",
       "\n",
       "    .dataframe tbody tr th {\n",
       "        vertical-align: top;\n",
       "    }\n",
       "\n",
       "    .dataframe thead th {\n",
       "        text-align: right;\n",
       "    }\n",
       "</style>\n",
       "<table border=\"1\" class=\"dataframe\">\n",
       "  <thead>\n",
       "    <tr style=\"text-align: right;\">\n",
       "      <th></th>\n",
       "      <th>adult</th>\n",
       "      <th>belongs_to_collection</th>\n",
       "      <th>budget</th>\n",
       "      <th>genres</th>\n",
       "      <th>homepage</th>\n",
       "      <th>id</th>\n",
       "      <th>imdb_id</th>\n",
       "      <th>original_language</th>\n",
       "      <th>original_title</th>\n",
       "      <th>overview</th>\n",
       "      <th>...</th>\n",
       "      <th>release_date</th>\n",
       "      <th>revenue</th>\n",
       "      <th>runtime</th>\n",
       "      <th>spoken_languages</th>\n",
       "      <th>status</th>\n",
       "      <th>tagline</th>\n",
       "      <th>title</th>\n",
       "      <th>video</th>\n",
       "      <th>vote_average</th>\n",
       "      <th>vote_count</th>\n",
       "    </tr>\n",
       "  </thead>\n",
       "  <tbody>\n",
       "    <tr>\n",
       "      <th>0</th>\n",
       "      <td>False</td>\n",
       "      <td>{'id': 10194, 'name': 'Toy Story Collection', ...</td>\n",
       "      <td>30000000</td>\n",
       "      <td>[{'id': 16, 'name': 'Animation'}, {'id': 35, '...</td>\n",
       "      <td>http://toystory.disney.com/toy-story</td>\n",
       "      <td>862</td>\n",
       "      <td>tt0114709</td>\n",
       "      <td>en</td>\n",
       "      <td>Toy Story</td>\n",
       "      <td>Led by Woody, Andy's toys live happily in his ...</td>\n",
       "      <td>...</td>\n",
       "      <td>1995-10-30</td>\n",
       "      <td>373554033.0</td>\n",
       "      <td>81.0</td>\n",
       "      <td>[{'iso_639_1': 'en', 'name': 'English'}]</td>\n",
       "      <td>Released</td>\n",
       "      <td>NaN</td>\n",
       "      <td>Toy Story</td>\n",
       "      <td>False</td>\n",
       "      <td>7.7</td>\n",
       "      <td>5415.0</td>\n",
       "    </tr>\n",
       "    <tr>\n",
       "      <th>1</th>\n",
       "      <td>False</td>\n",
       "      <td>NaN</td>\n",
       "      <td>65000000</td>\n",
       "      <td>[{'id': 12, 'name': 'Adventure'}, {'id': 14, '...</td>\n",
       "      <td>NaN</td>\n",
       "      <td>8844</td>\n",
       "      <td>tt0113497</td>\n",
       "      <td>en</td>\n",
       "      <td>Jumanji</td>\n",
       "      <td>When siblings Judy and Peter discover an encha...</td>\n",
       "      <td>...</td>\n",
       "      <td>1995-12-15</td>\n",
       "      <td>262797249.0</td>\n",
       "      <td>104.0</td>\n",
       "      <td>[{'iso_639_1': 'en', 'name': 'English'}, {'iso...</td>\n",
       "      <td>Released</td>\n",
       "      <td>Roll the dice and unleash the excitement!</td>\n",
       "      <td>Jumanji</td>\n",
       "      <td>False</td>\n",
       "      <td>6.9</td>\n",
       "      <td>2413.0</td>\n",
       "    </tr>\n",
       "    <tr>\n",
       "      <th>2</th>\n",
       "      <td>False</td>\n",
       "      <td>{'id': 119050, 'name': 'Grumpy Old Men Collect...</td>\n",
       "      <td>0</td>\n",
       "      <td>[{'id': 10749, 'name': 'Romance'}, {'id': 35, ...</td>\n",
       "      <td>NaN</td>\n",
       "      <td>15602</td>\n",
       "      <td>tt0113228</td>\n",
       "      <td>en</td>\n",
       "      <td>Grumpier Old Men</td>\n",
       "      <td>A family wedding reignites the ancient feud be...</td>\n",
       "      <td>...</td>\n",
       "      <td>1995-12-22</td>\n",
       "      <td>0.0</td>\n",
       "      <td>101.0</td>\n",
       "      <td>[{'iso_639_1': 'en', 'name': 'English'}]</td>\n",
       "      <td>Released</td>\n",
       "      <td>Still Yelling. Still Fighting. Still Ready for...</td>\n",
       "      <td>Grumpier Old Men</td>\n",
       "      <td>False</td>\n",
       "      <td>6.5</td>\n",
       "      <td>92.0</td>\n",
       "    </tr>\n",
       "    <tr>\n",
       "      <th>3</th>\n",
       "      <td>False</td>\n",
       "      <td>NaN</td>\n",
       "      <td>16000000</td>\n",
       "      <td>[{'id': 35, 'name': 'Comedy'}, {'id': 18, 'nam...</td>\n",
       "      <td>NaN</td>\n",
       "      <td>31357</td>\n",
       "      <td>tt0114885</td>\n",
       "      <td>en</td>\n",
       "      <td>Waiting to Exhale</td>\n",
       "      <td>Cheated on, mistreated and stepped on, the wom...</td>\n",
       "      <td>...</td>\n",
       "      <td>1995-12-22</td>\n",
       "      <td>81452156.0</td>\n",
       "      <td>127.0</td>\n",
       "      <td>[{'iso_639_1': 'en', 'name': 'English'}]</td>\n",
       "      <td>Released</td>\n",
       "      <td>Friends are the people who let you be yourself...</td>\n",
       "      <td>Waiting to Exhale</td>\n",
       "      <td>False</td>\n",
       "      <td>6.1</td>\n",
       "      <td>34.0</td>\n",
       "    </tr>\n",
       "    <tr>\n",
       "      <th>4</th>\n",
       "      <td>False</td>\n",
       "      <td>{'id': 96871, 'name': 'Father of the Bride Col...</td>\n",
       "      <td>0</td>\n",
       "      <td>[{'id': 35, 'name': 'Comedy'}]</td>\n",
       "      <td>NaN</td>\n",
       "      <td>11862</td>\n",
       "      <td>tt0113041</td>\n",
       "      <td>en</td>\n",
       "      <td>Father of the Bride Part II</td>\n",
       "      <td>Just when George Banks has recovered from his ...</td>\n",
       "      <td>...</td>\n",
       "      <td>1995-02-10</td>\n",
       "      <td>76578911.0</td>\n",
       "      <td>106.0</td>\n",
       "      <td>[{'iso_639_1': 'en', 'name': 'English'}]</td>\n",
       "      <td>Released</td>\n",
       "      <td>Just When His World Is Back To Normal... He's ...</td>\n",
       "      <td>Father of the Bride Part II</td>\n",
       "      <td>False</td>\n",
       "      <td>5.7</td>\n",
       "      <td>173.0</td>\n",
       "    </tr>\n",
       "    <tr>\n",
       "      <th>...</th>\n",
       "      <td>...</td>\n",
       "      <td>...</td>\n",
       "      <td>...</td>\n",
       "      <td>...</td>\n",
       "      <td>...</td>\n",
       "      <td>...</td>\n",
       "      <td>...</td>\n",
       "      <td>...</td>\n",
       "      <td>...</td>\n",
       "      <td>...</td>\n",
       "      <td>...</td>\n",
       "      <td>...</td>\n",
       "      <td>...</td>\n",
       "      <td>...</td>\n",
       "      <td>...</td>\n",
       "      <td>...</td>\n",
       "      <td>...</td>\n",
       "      <td>...</td>\n",
       "      <td>...</td>\n",
       "      <td>...</td>\n",
       "      <td>...</td>\n",
       "    </tr>\n",
       "    <tr>\n",
       "      <th>45461</th>\n",
       "      <td>False</td>\n",
       "      <td>NaN</td>\n",
       "      <td>0</td>\n",
       "      <td>[{'id': 18, 'name': 'Drama'}, {'id': 10751, 'n...</td>\n",
       "      <td>http://www.imdb.com/title/tt6209470/</td>\n",
       "      <td>439050</td>\n",
       "      <td>tt6209470</td>\n",
       "      <td>fa</td>\n",
       "      <td>رگ خواب</td>\n",
       "      <td>Rising and falling between a man and woman.</td>\n",
       "      <td>...</td>\n",
       "      <td>NaN</td>\n",
       "      <td>0.0</td>\n",
       "      <td>90.0</td>\n",
       "      <td>[{'iso_639_1': 'fa', 'name': 'فارسی'}]</td>\n",
       "      <td>Released</td>\n",
       "      <td>Rising and falling between a man and woman</td>\n",
       "      <td>Subdue</td>\n",
       "      <td>False</td>\n",
       "      <td>4.0</td>\n",
       "      <td>1.0</td>\n",
       "    </tr>\n",
       "    <tr>\n",
       "      <th>45462</th>\n",
       "      <td>False</td>\n",
       "      <td>NaN</td>\n",
       "      <td>0</td>\n",
       "      <td>[{'id': 18, 'name': 'Drama'}]</td>\n",
       "      <td>NaN</td>\n",
       "      <td>111109</td>\n",
       "      <td>tt2028550</td>\n",
       "      <td>tl</td>\n",
       "      <td>Siglo ng Pagluluwal</td>\n",
       "      <td>An artist struggles to finish his work while a...</td>\n",
       "      <td>...</td>\n",
       "      <td>2011-11-17</td>\n",
       "      <td>0.0</td>\n",
       "      <td>360.0</td>\n",
       "      <td>[{'iso_639_1': 'tl', 'name': ''}]</td>\n",
       "      <td>Released</td>\n",
       "      <td>NaN</td>\n",
       "      <td>Century of Birthing</td>\n",
       "      <td>False</td>\n",
       "      <td>9.0</td>\n",
       "      <td>3.0</td>\n",
       "    </tr>\n",
       "    <tr>\n",
       "      <th>45463</th>\n",
       "      <td>False</td>\n",
       "      <td>NaN</td>\n",
       "      <td>0</td>\n",
       "      <td>[{'id': 28, 'name': 'Action'}, {'id': 18, 'nam...</td>\n",
       "      <td>NaN</td>\n",
       "      <td>67758</td>\n",
       "      <td>tt0303758</td>\n",
       "      <td>en</td>\n",
       "      <td>Betrayal</td>\n",
       "      <td>When one of her hits goes wrong, a professiona...</td>\n",
       "      <td>...</td>\n",
       "      <td>2003-08-01</td>\n",
       "      <td>0.0</td>\n",
       "      <td>90.0</td>\n",
       "      <td>[{'iso_639_1': 'en', 'name': 'English'}]</td>\n",
       "      <td>Released</td>\n",
       "      <td>A deadly game of wits.</td>\n",
       "      <td>Betrayal</td>\n",
       "      <td>False</td>\n",
       "      <td>3.8</td>\n",
       "      <td>6.0</td>\n",
       "    </tr>\n",
       "    <tr>\n",
       "      <th>45464</th>\n",
       "      <td>False</td>\n",
       "      <td>NaN</td>\n",
       "      <td>0</td>\n",
       "      <td>[]</td>\n",
       "      <td>NaN</td>\n",
       "      <td>227506</td>\n",
       "      <td>tt0008536</td>\n",
       "      <td>en</td>\n",
       "      <td>Satana likuyushchiy</td>\n",
       "      <td>In a small town live two brothers, one a minis...</td>\n",
       "      <td>...</td>\n",
       "      <td>1917-10-21</td>\n",
       "      <td>0.0</td>\n",
       "      <td>87.0</td>\n",
       "      <td>[]</td>\n",
       "      <td>Released</td>\n",
       "      <td>NaN</td>\n",
       "      <td>Satan Triumphant</td>\n",
       "      <td>False</td>\n",
       "      <td>0.0</td>\n",
       "      <td>0.0</td>\n",
       "    </tr>\n",
       "    <tr>\n",
       "      <th>45465</th>\n",
       "      <td>False</td>\n",
       "      <td>NaN</td>\n",
       "      <td>0</td>\n",
       "      <td>[]</td>\n",
       "      <td>NaN</td>\n",
       "      <td>461257</td>\n",
       "      <td>tt6980792</td>\n",
       "      <td>en</td>\n",
       "      <td>Queerama</td>\n",
       "      <td>50 years after decriminalisation of homosexual...</td>\n",
       "      <td>...</td>\n",
       "      <td>2017-06-09</td>\n",
       "      <td>0.0</td>\n",
       "      <td>75.0</td>\n",
       "      <td>[{'iso_639_1': 'en', 'name': 'English'}]</td>\n",
       "      <td>Released</td>\n",
       "      <td>NaN</td>\n",
       "      <td>Queerama</td>\n",
       "      <td>False</td>\n",
       "      <td>0.0</td>\n",
       "      <td>0.0</td>\n",
       "    </tr>\n",
       "  </tbody>\n",
       "</table>\n",
       "<p>45466 rows × 24 columns</p>\n",
       "</div>"
      ],
      "text/plain": [
       "       adult                              belongs_to_collection    budget  \\\n",
       "0      False  {'id': 10194, 'name': 'Toy Story Collection', ...  30000000   \n",
       "1      False                                                NaN  65000000   \n",
       "2      False  {'id': 119050, 'name': 'Grumpy Old Men Collect...         0   \n",
       "3      False                                                NaN  16000000   \n",
       "4      False  {'id': 96871, 'name': 'Father of the Bride Col...         0   \n",
       "...      ...                                                ...       ...   \n",
       "45461  False                                                NaN         0   \n",
       "45462  False                                                NaN         0   \n",
       "45463  False                                                NaN         0   \n",
       "45464  False                                                NaN         0   \n",
       "45465  False                                                NaN         0   \n",
       "\n",
       "                                                  genres  \\\n",
       "0      [{'id': 16, 'name': 'Animation'}, {'id': 35, '...   \n",
       "1      [{'id': 12, 'name': 'Adventure'}, {'id': 14, '...   \n",
       "2      [{'id': 10749, 'name': 'Romance'}, {'id': 35, ...   \n",
       "3      [{'id': 35, 'name': 'Comedy'}, {'id': 18, 'nam...   \n",
       "4                         [{'id': 35, 'name': 'Comedy'}]   \n",
       "...                                                  ...   \n",
       "45461  [{'id': 18, 'name': 'Drama'}, {'id': 10751, 'n...   \n",
       "45462                      [{'id': 18, 'name': 'Drama'}]   \n",
       "45463  [{'id': 28, 'name': 'Action'}, {'id': 18, 'nam...   \n",
       "45464                                                 []   \n",
       "45465                                                 []   \n",
       "\n",
       "                                   homepage      id    imdb_id  \\\n",
       "0      http://toystory.disney.com/toy-story     862  tt0114709   \n",
       "1                                       NaN    8844  tt0113497   \n",
       "2                                       NaN   15602  tt0113228   \n",
       "3                                       NaN   31357  tt0114885   \n",
       "4                                       NaN   11862  tt0113041   \n",
       "...                                     ...     ...        ...   \n",
       "45461  http://www.imdb.com/title/tt6209470/  439050  tt6209470   \n",
       "45462                                   NaN  111109  tt2028550   \n",
       "45463                                   NaN   67758  tt0303758   \n",
       "45464                                   NaN  227506  tt0008536   \n",
       "45465                                   NaN  461257  tt6980792   \n",
       "\n",
       "      original_language               original_title  \\\n",
       "0                    en                    Toy Story   \n",
       "1                    en                      Jumanji   \n",
       "2                    en             Grumpier Old Men   \n",
       "3                    en            Waiting to Exhale   \n",
       "4                    en  Father of the Bride Part II   \n",
       "...                 ...                          ...   \n",
       "45461                fa                      رگ خواب   \n",
       "45462                tl          Siglo ng Pagluluwal   \n",
       "45463                en                     Betrayal   \n",
       "45464                en          Satana likuyushchiy   \n",
       "45465                en                     Queerama   \n",
       "\n",
       "                                                overview  ... release_date  \\\n",
       "0      Led by Woody, Andy's toys live happily in his ...  ...   1995-10-30   \n",
       "1      When siblings Judy and Peter discover an encha...  ...   1995-12-15   \n",
       "2      A family wedding reignites the ancient feud be...  ...   1995-12-22   \n",
       "3      Cheated on, mistreated and stepped on, the wom...  ...   1995-12-22   \n",
       "4      Just when George Banks has recovered from his ...  ...   1995-02-10   \n",
       "...                                                  ...  ...          ...   \n",
       "45461        Rising and falling between a man and woman.  ...          NaN   \n",
       "45462  An artist struggles to finish his work while a...  ...   2011-11-17   \n",
       "45463  When one of her hits goes wrong, a professiona...  ...   2003-08-01   \n",
       "45464  In a small town live two brothers, one a minis...  ...   1917-10-21   \n",
       "45465  50 years after decriminalisation of homosexual...  ...   2017-06-09   \n",
       "\n",
       "           revenue runtime                                   spoken_languages  \\\n",
       "0      373554033.0    81.0           [{'iso_639_1': 'en', 'name': 'English'}]   \n",
       "1      262797249.0   104.0  [{'iso_639_1': 'en', 'name': 'English'}, {'iso...   \n",
       "2              0.0   101.0           [{'iso_639_1': 'en', 'name': 'English'}]   \n",
       "3       81452156.0   127.0           [{'iso_639_1': 'en', 'name': 'English'}]   \n",
       "4       76578911.0   106.0           [{'iso_639_1': 'en', 'name': 'English'}]   \n",
       "...            ...     ...                                                ...   \n",
       "45461          0.0    90.0             [{'iso_639_1': 'fa', 'name': 'فارسی'}]   \n",
       "45462          0.0   360.0                  [{'iso_639_1': 'tl', 'name': ''}]   \n",
       "45463          0.0    90.0           [{'iso_639_1': 'en', 'name': 'English'}]   \n",
       "45464          0.0    87.0                                                 []   \n",
       "45465          0.0    75.0           [{'iso_639_1': 'en', 'name': 'English'}]   \n",
       "\n",
       "         status                                            tagline  \\\n",
       "0      Released                                                NaN   \n",
       "1      Released          Roll the dice and unleash the excitement!   \n",
       "2      Released  Still Yelling. Still Fighting. Still Ready for...   \n",
       "3      Released  Friends are the people who let you be yourself...   \n",
       "4      Released  Just When His World Is Back To Normal... He's ...   \n",
       "...         ...                                                ...   \n",
       "45461  Released         Rising and falling between a man and woman   \n",
       "45462  Released                                                NaN   \n",
       "45463  Released                             A deadly game of wits.   \n",
       "45464  Released                                                NaN   \n",
       "45465  Released                                                NaN   \n",
       "\n",
       "                             title  video vote_average vote_count  \n",
       "0                        Toy Story  False          7.7     5415.0  \n",
       "1                          Jumanji  False          6.9     2413.0  \n",
       "2                 Grumpier Old Men  False          6.5       92.0  \n",
       "3                Waiting to Exhale  False          6.1       34.0  \n",
       "4      Father of the Bride Part II  False          5.7      173.0  \n",
       "...                            ...    ...          ...        ...  \n",
       "45461                       Subdue  False          4.0        1.0  \n",
       "45462          Century of Birthing  False          9.0        3.0  \n",
       "45463                     Betrayal  False          3.8        6.0  \n",
       "45464             Satan Triumphant  False          0.0        0.0  \n",
       "45465                     Queerama  False          0.0        0.0  \n",
       "\n",
       "[45466 rows x 24 columns]"
      ]
     },
     "execution_count": 41,
     "metadata": {},
     "output_type": "execute_result"
    }
   ],
   "source": [
    "df = pd.read_csv(\"movies_dataset.csv\")\n",
    "'''\n",
    "json_data = df.to_json(orient='records')\n",
    "with open('movies_dataset.json', 'w') as json_file:\n",
    "    json_file.write(json_data)\n",
    "df_json = pd.read_json(\"movies_dataset.json\")\n",
    "df_json.info()\n",
    "'''\n",
    "df"
   ]
  },
  {
   "attachments": {},
   "cell_type": "markdown",
   "metadata": {},
   "source": [
    "Transformamos la columna genres en listas"
   ]
  },
  {
   "cell_type": "code",
   "execution_count": 42,
   "metadata": {},
   "outputs": [
    {
     "name": "stderr",
     "output_type": "stream",
     "text": [
      "C:\\Users\\Alejandro\\AppData\\Local\\Temp\\ipykernel_420\\326775285.py:5: DtypeWarning: Columns (10) have mixed types. Specify dtype option on import or set low_memory=False.\n",
      "  DF = pd.read_csv(\"movies_dataset.csv\",converters={'genres': parse_genres})\n"
     ]
    }
   ],
   "source": [
    "def parse_genres(genres_str):\n",
    "    genres = ast.literal_eval(genres_str)\n",
    "    return [g['name'] for g in genres]\n",
    "\n",
    "DF = pd.read_csv(\"movies_dataset.csv\",converters={'genres': parse_genres})\n",
    "\n",
    "DF.to_csv(\"movies_dataset_modificado.csv\", index=False)"
   ]
  },
  {
   "attachments": {},
   "cell_type": "markdown",
   "metadata": {},
   "source": [
    "Transformando la columna \"belong_to...\""
   ]
  },
  {
   "cell_type": "code",
   "execution_count": 43,
   "metadata": {},
   "outputs": [
    {
     "name": "stderr",
     "output_type": "stream",
     "text": [
      "C:\\Users\\Alejandro\\AppData\\Local\\Temp\\ipykernel_420\\2523802743.py:1: DtypeWarning: Columns (10) have mixed types. Specify dtype option on import or set low_memory=False.\n",
      "  df2 = pd.read_csv(\"movies_dataset_modificado.csv\")\n"
     ]
    }
   ],
   "source": [
    "\n",
    "df2 = pd.read_csv(\"movies_dataset_modificado.csv\")\n",
    "df2['belongs_to_collection'] = df2['belongs_to_collection'].astype(str)\n",
    "'''def parse_belongs_to_collection(belongs_to_collection_str):\n",
    "    if isinstance(belongs_to_collection_str, float) and math.isnan(belongs_to_collection_str):\n",
    "        return None\n",
    "    elif isinstance(belongs_to_collection_str, str):\n",
    "        belongs_to_collection = json.loads(belongs_to_collection_str)\n",
    "        return belongs_to_collection.get('name')\n",
    "    else:\n",
    "        return None\n",
    "'''\n",
    "\n",
    "\n",
    "def parse_belongs_to_collection(belongs_to_collection_str):\n",
    "    try:\n",
    "        if pd.isnull(belongs_to_collection_str) or belongs_to_collection_str == \"nan\":\n",
    "            return None\n",
    "        elif isinstance(belongs_to_collection_str, str):\n",
    "            belongs_to_collection = eval(belongs_to_collection_str)\n",
    "            if isinstance(belongs_to_collection, dict):\n",
    "                return belongs_to_collection.get('name')\n",
    "        return None\n",
    "    except (SyntaxError, ValueError, TypeError):\n",
    "        return None\n",
    "\n",
    "df2['belongs_to_collection'] = df2['belongs_to_collection'].astype(str)\n",
    "df2['belongs_to_collection'] = df2['belongs_to_collection'].apply(parse_belongs_to_collection)\n",
    "\n",
    "'''\n",
    "df2 = pd.read_csv(\"movies_dataset_modificado.csv\",converters={'belongs_to_collection': parse_belongs_to_collection})\n",
    "'''\n",
    "#df.to_csv(\"movies_dataset_modificado.csv\",index=False)\n",
    "#df1 = pd.read_csv(\"movies_dataset_modificado.csv\")\n",
    "# df = pd.read_csv(\"movies_dataset.csv\")\n",
    "#df1[\"belongs_to_collection\"]\n",
    "\n",
    "df2.to_csv(\"movies_dataset_modificado.csv\",index=False)\n",
    "\n"
   ]
  },
  {
   "cell_type": "markdown",
   "metadata": {},
   "source": [
    "Ensayo conversiones de los valores de la columna belongs por los errores que me presenta al intentar tomar los datos. Error \"AttributeError: 'float' object has no attribute 'get'\""
   ]
  },
  {
   "cell_type": "code",
   "execution_count": 44,
   "metadata": {},
   "outputs": [
    {
     "data": {
      "text/plain": [
       "'\\ndf[\\'belongs_to_collection\\'] = df[\\'belongs_to_collection\\'].astype(str)\\nserie = pd.Series(df2[\"belongs_to_collection\"].values)\\nlista = list(serie)\\nprint(list(serie))\\nfor n in lista:\\n    print(type(n))\\n'"
      ]
     },
     "execution_count": 44,
     "metadata": {},
     "output_type": "execute_result"
    }
   ],
   "source": [
    "### Convierto la columna con valores tipo float a str y compruebo el resultado.\n",
    "\n",
    "'''\n",
    "df['belongs_to_collection'] = df['belongs_to_collection'].astype(str)\n",
    "serie = pd.Series(df2[\"belongs_to_collection\"].values)\n",
    "lista = list(serie)\n",
    "print(list(serie))\n",
    "for n in lista:\n",
    "    print(type(n))\n",
    "'''"
   ]
  },
  {
   "attachments": {},
   "cell_type": "markdown",
   "metadata": {},
   "source": [
    "Eliminamos las columnas \"video, imdb_id, adult, original_title, poster_path y homepage\""
   ]
  },
  {
   "cell_type": "code",
   "execution_count": 45,
   "metadata": {},
   "outputs": [
    {
     "name": "stderr",
     "output_type": "stream",
     "text": [
      "C:\\Users\\Alejandro\\AppData\\Local\\Temp\\ipykernel_420\\1094942841.py:1: DtypeWarning: Columns (10) have mixed types. Specify dtype option on import or set low_memory=False.\n",
      "  df = pd.read_csv(\"movies_dataset_modificado.csv\")\n"
     ]
    }
   ],
   "source": [
    "df = pd.read_csv(\"movies_dataset_modificado.csv\")\n",
    "\n",
    "df = df.drop(columns=[\"video\", \"imdb_id\", \"adult\", \"original_title\", \"poster_path\", \"homepage\"])\n",
    "df.to_csv(\"movies_dataset_modificado.csv\", index=False)\n"
   ]
  },
  {
   "cell_type": "markdown",
   "metadata": {},
   "source": [
    "Transformo la columna production_countries"
   ]
  },
  {
   "cell_type": "code",
   "execution_count": 46,
   "metadata": {},
   "outputs": [
    {
     "name": "stderr",
     "output_type": "stream",
     "text": [
      "C:\\Users\\Alejandro\\AppData\\Local\\Temp\\ipykernel_420\\918046821.py:1: DtypeWarning: Columns (6) have mixed types. Specify dtype option on import or set low_memory=False.\n",
      "  df3 = pd.read_csv(\"movies_dataset_modificado.csv\")\n",
      "C:\\Users\\Alejandro\\AppData\\Local\\Temp\\ipykernel_420\\918046821.py:16: DtypeWarning: Columns (6) have mixed types. Specify dtype option on import or set low_memory=False.\n",
      "  df3 = pd.read_csv(\"movies_dataset_modificado.csv\",converters={'production_countries': parse_production_countries})\n"
     ]
    },
    {
     "data": {
      "text/plain": [
       "\"\\nserie = pd.Series(df3['production_countries'].values)\\nlista = list(serie)\\nprint(list(serie))\\n\\nfor n in lista:\\n    print(type(n))\\n\""
      ]
     },
     "execution_count": 46,
     "metadata": {},
     "output_type": "execute_result"
    }
   ],
   "source": [
    "df3 = pd.read_csv(\"movies_dataset_modificado.csv\")\n",
    "df3['production_countries'] = df3['production_countries'].astype(str)\n",
    "\n",
    "def parse_production_countries(production_countries_str):\n",
    "    try:\n",
    "        if pd.isnull(production_countries_str) or production_countries_str == \"nan\":\n",
    "            return None\n",
    "        elif isinstance(production_countries_str, str):\n",
    "            production_countries = ast.literal_eval(production_countries_str)\n",
    "    \n",
    "        return [g['name'] for g in production_countries]\n",
    "    except (SyntaxError, ValueError, TypeError):\n",
    "        return None\n",
    "\n",
    "\n",
    "df3 = pd.read_csv(\"movies_dataset_modificado.csv\",converters={'production_countries': parse_production_countries})\n",
    "df3.to_csv(\"movies_dataset_modificado.csv\", index=False)\n",
    "'''\n",
    "serie = pd.Series(df3['production_countries'].values)\n",
    "lista = list(serie)\n",
    "print(list(serie))\n",
    "\n",
    "for n in lista:\n",
    "    print(type(n))\n",
    "'''"
   ]
  },
  {
   "cell_type": "markdown",
   "metadata": {},
   "source": [
    "Transformamos la columna prodction_companies"
   ]
  },
  {
   "cell_type": "code",
   "execution_count": 47,
   "metadata": {},
   "outputs": [
    {
     "name": "stderr",
     "output_type": "stream",
     "text": [
      "C:\\Users\\Alejandro\\AppData\\Local\\Temp\\ipykernel_420\\588667705.py:1: DtypeWarning: Columns (6) have mixed types. Specify dtype option on import or set low_memory=False.\n",
      "  df4 = pd.read_csv(\"movies_dataset_modificado.csv\")\n",
      "C:\\Users\\Alejandro\\AppData\\Local\\Temp\\ipykernel_420\\588667705.py:11: DtypeWarning: Columns (6) have mixed types. Specify dtype option on import or set low_memory=False.\n",
      "  df4 = pd.read_csv(\"movies_dataset_modificado.csv\",converters={'production_companies': parse_production_companies})\n"
     ]
    },
    {
     "data": {
      "text/plain": [
       "'\\ndf4 = pd.read_csv(\"movies_dataset_modificado.csv\")\\ndf4\\n'"
      ]
     },
     "execution_count": 47,
     "metadata": {},
     "output_type": "execute_result"
    }
   ],
   "source": [
    "df4 = pd.read_csv(\"movies_dataset_modificado.csv\")\n",
    "\n",
    "def parse_production_companies(production_companies_str):\n",
    "    try:\n",
    "        production_companies = ast.literal_eval(production_companies_str)\n",
    "    \n",
    "        return [g['name'] for g in production_companies]\n",
    "    except (SyntaxError, ValueError, TypeError):\n",
    "        return None\n",
    "\n",
    "df4 = pd.read_csv(\"movies_dataset_modificado.csv\",converters={'production_companies': parse_production_companies})    \n",
    "df4.to_csv(\"movies_dataset_modificado.csv\", index=False)\n",
    "\n",
    "### Verifico que la conversión sea correcta\n",
    "'''\n",
    "df4 = pd.read_csv(\"movies_dataset_modificado.csv\")\n",
    "df4\n",
    "'''"
   ]
  },
  {
   "cell_type": "markdown",
   "metadata": {},
   "source": [
    "Terminamos con la transformación de la columna spoken languages"
   ]
  },
  {
   "cell_type": "code",
   "execution_count": 48,
   "metadata": {},
   "outputs": [
    {
     "name": "stderr",
     "output_type": "stream",
     "text": [
      "C:\\Users\\Alejandro\\AppData\\Local\\Temp\\ipykernel_420\\1506268308.py:1: DtypeWarning: Columns (6) have mixed types. Specify dtype option on import or set low_memory=False.\n",
      "  df5 = pd.read_csv(\"movies_dataset_modificado.csv\")\n",
      "C:\\Users\\Alejandro\\AppData\\Local\\Temp\\ipykernel_420\\1506268308.py:11: DtypeWarning: Columns (6) have mixed types. Specify dtype option on import or set low_memory=False.\n",
      "  df5 = pd.read_csv(\"movies_dataset_modificado.csv\",converters={'spoken_languages': parse_spoken_languages})\n"
     ]
    }
   ],
   "source": [
    "df5 = pd.read_csv(\"movies_dataset_modificado.csv\")\n",
    "\n",
    "\n",
    "def parse_spoken_languages(spoken_languages_str):\n",
    "    try:\n",
    "        spoken_languages = ast.literal_eval(spoken_languages_str)\n",
    "        return [g['name'] for g in spoken_languages]\n",
    "    except (SyntaxError, ValueError, TypeError):\n",
    "        return None\n",
    "\n",
    "df5 = pd.read_csv(\"movies_dataset_modificado.csv\",converters={'spoken_languages': parse_spoken_languages})\n",
    "\n",
    "\n",
    "df5.to_csv(\"movies_dataset_modificado.csv\",index= False)\n"
   ]
  },
  {
   "cell_type": "markdown",
   "metadata": {},
   "source": [
    "Rellenamos las columnas Budget y Revenue"
   ]
  },
  {
   "cell_type": "code",
   "execution_count": 49,
   "metadata": {},
   "outputs": [
    {
     "name": "stderr",
     "output_type": "stream",
     "text": [
      "C:\\Users\\Alejandro\\AppData\\Local\\Temp\\ipykernel_420\\663481352.py:6: DtypeWarning: Columns (6) have mixed types. Specify dtype option on import or set low_memory=False.\n",
      "  df6 = pd.read_csv(\"movies_dataset_modificado.csv\")\n"
     ]
    }
   ],
   "source": [
    "### Los valores nulos de los campos revenue, budget deben ser rellenados por el número 0.\n",
    "\n",
    "\n",
    "\n",
    "\n",
    "df6 = pd.read_csv(\"movies_dataset_modificado.csv\")\n",
    "\n",
    "df6[\"budget\"] = df6[\"budget\"].fillna(0)\n",
    "df6[\"revenue\"] = df6[\"revenue\"].fillna(0)\n",
    "#df6[\"budget\"].notna().value_counts()\n",
    "#df6[\"revenue\"].notna().value_counts()\n",
    "#df6.info()\n",
    "df6.to_csv(\"movies_dataset_modificado.csv\", index=False)"
   ]
  },
  {
   "cell_type": "markdown",
   "metadata": {},
   "source": [
    "Uno los datasets movies y credits /\n",
    "Este paso no se puede realizar sin el archivo credits.csv que no puedo subir a git, sin embargo no afecta en nada al desarrollo del resto de las transformaciones. Al final hice una division del dataset para poder subirlo y unirlo para poder ejecutar la fuccion productor."
   ]
  },
  {
   "cell_type": "code",
   "execution_count": 50,
   "metadata": {},
   "outputs": [
    {
     "name": "stderr",
     "output_type": "stream",
     "text": [
      "C:\\Users\\Alejandro\\AppData\\Local\\Temp\\ipykernel_420\\1864697361.py:2: DtypeWarning: Columns (6) have mixed types. Specify dtype option on import or set low_memory=False.\n",
      "  df_modificado = pd.read_csv(\"movies_dataset_modificado.csv\")\n"
     ]
    }
   ],
   "source": [
    "\n",
    "df_credits = pd.read_csv(\"credits.csv\")\n",
    "df_modificado = pd.read_csv(\"movies_dataset_modificado.csv\")\n",
    "df_credits.isna().value_counts()\n",
    "\n",
    "df_modificado[\"id\"].isna().value_counts()\n",
    "df_modificado = df_modificado[pd.to_numeric(df_modificado[\"id\"], errors='coerce').notnull()]\n",
    "df_modificado[\"id\"] = df_modificado[\"id\"].astype(\"Int64\")\n",
    "\n",
    "df_combined = pd.merge(df_modificado, df_credits, on= \"id\")\n",
    "df_combined[\"release_date\"].isnull().value_counts()\n",
    "\n",
    "## Realizo la transformacion sobre la columna crew por 2 motivos.\n",
    "#  1) para poder quedarme con el nombre del director\n",
    "#  2) Para poder ahorrar espacio.\n",
    "\n",
    "df_combined['crew'] = df_combined['crew'].apply(ast.literal_eval)\n",
    "df_combined['crew'] = df_combined['crew'].apply(lambda x: [member['name'] for member in x if member['job'] == 'Director'][0] if any(member['job'] == 'Director' for member in x) else '')\n",
    "\n",
    "## elimino la columna CAST por un tema de espacio\n",
    "df_combined = df_combined.drop(columns=[\"cast\"])\n",
    "\n",
    "## Guardo el dataset\n",
    "\n",
    "df_combined.to_csv(\"movies_dataset_modificado.csv\", index=False)\n"
   ]
  },
  {
   "cell_type": "markdown",
   "metadata": {},
   "source": [
    "Eliminamos los valores nulos del campo realease_date"
   ]
  },
  {
   "cell_type": "code",
   "execution_count": 51,
   "metadata": {},
   "outputs": [
    {
     "name": "stdout",
     "output_type": "stream",
     "text": [
      "<class 'pandas.core.series.Series'>\n",
      "RangeIndex: 45538 entries, 0 to 45537\n",
      "Series name: release_date\n",
      "Non-Null Count  Dtype \n",
      "--------------  ----- \n",
      "45451 non-null  object\n",
      "dtypes: object(1)\n",
      "memory usage: 355.9+ KB\n"
     ]
    }
   ],
   "source": [
    "df7 = pd.read_csv(\"movies_dataset_modificado.csv\")\n",
    "df7[\"release_date\"].info()\n",
    "df7 = df7.dropna(subset=[\"release_date\"])\n",
    "df7.to_csv(\"movies_dataset_modificado.csv\", index=False)"
   ]
  },
  {
   "cell_type": "markdown",
   "metadata": {},
   "source": [
    "Creo la columna Realease year y convierto las fechas a formato AAAA-mm-dd"
   ]
  },
  {
   "cell_type": "code",
   "execution_count": 52,
   "metadata": {},
   "outputs": [
    {
     "name": "stdout",
     "output_type": "stream",
     "text": [
      "<class 'pandas.core.series.Series'>\n",
      "RangeIndex: 45451 entries, 0 to 45450\n",
      "Series name: release_date\n",
      "Non-Null Count  Dtype \n",
      "--------------  ----- \n",
      "45451 non-null  object\n",
      "dtypes: object(1)\n",
      "memory usage: 355.2+ KB\n"
     ]
    }
   ],
   "source": [
    "df8 = pd.read_csv(\"movies_dataset_modificado.csv\")\n",
    "df8[\"release_date\"].info()\n",
    "### Creo la columna RELEASE YEAR\n",
    "\n",
    "df8[\"release_year\"] = df8[\"release_date\"].str[:4]\n",
    "df8[\"release_year\"] = df8[\"release_year\"].fillna(0).astype(int)\n",
    "### LUEGO ME ASEGURO QUE TODAS LAS FECHAS ESTEN EN FORMATO AAAA-mm-dd\n",
    "df8[\"release_date\"] = pd.to_datetime(df8[\"release_date\"], format=\"%Y-%m-%d\", errors=\"coerce\")\n",
    "\n",
    "df8.to_csv(\"movies_dataset_modificado.csv\", index=False)\n"
   ]
  },
  {
   "cell_type": "code",
   "execution_count": 53,
   "metadata": {},
   "outputs": [],
   "source": [
    "\n",
    "df9 = pd.read_csv(\"movies_dataset_modificado.csv\")\n",
    "df9[\"return\"] = np.where((df9[\"revenue\"] == 0) | (df9[\"budget\"] == 0), 0, df9[\"revenue\"] / df9[\"budget\"])\n",
    "df9[[\"budget\",\"revenue\",\"return\"]]\n",
    "df9.to_csv(\"movies_dataset_modificado.csv\", index=False)"
   ]
  },
  {
   "cell_type": "code",
   "execution_count": 54,
   "metadata": {},
   "outputs": [
    {
     "data": {
      "text/plain": [
       "'\\ndf_final = pd.read_csv(\"movies_dataset_modificado.csv\")\\ndf_final_1 = df_final.drop(columns=[\"cast\", \"crew\"])\\ndf_final_1.to_csv(\"movies_dataset_modificado_final_1.csv\", index=False)\\ndf_final_2 = df_final[\"crew\"]\\ndf_final_2.to_csv(\"movies_dataset_modificado_final_2.csv\", index=False)\\n'"
      ]
     },
     "execution_count": 54,
     "metadata": {},
     "output_type": "execute_result"
    }
   ],
   "source": [
    "'''\n",
    "df_final = pd.read_csv(\"movies_dataset_modificado.csv\")\n",
    "df_final_1 = df_final.drop(columns=[\"cast\", \"crew\"])\n",
    "df_final_1.to_csv(\"movies_dataset_modificado_final_1.csv\", index=False)\n",
    "df_final_2 = df_final[\"crew\"]\n",
    "df_final_2.to_csv(\"movies_dataset_modificado_final_2.csv\", index=False)\n",
    "'''\n"
   ]
  },
  {
   "cell_type": "code",
   "execution_count": null,
   "metadata": {},
   "outputs": [],
   "source": []
  }
 ],
 "metadata": {
  "kernelspec": {
   "display_name": "Python 3",
   "language": "python",
   "name": "python3"
  },
  "language_info": {
   "codemirror_mode": {
    "name": "ipython",
    "version": 3
   },
   "file_extension": ".py",
   "mimetype": "text/x-python",
   "name": "python",
   "nbconvert_exporter": "python",
   "pygments_lexer": "ipython3",
   "version": "3.11.1"
  },
  "orig_nbformat": 4
 },
 "nbformat": 4,
 "nbformat_minor": 2
}
